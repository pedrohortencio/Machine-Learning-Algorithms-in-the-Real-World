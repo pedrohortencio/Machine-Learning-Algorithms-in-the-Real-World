{
  "nbformat": 4,
  "nbformat_minor": 0,
  "metadata": {
    "colab": {
      "name": "Parameter Tuning.ipynb",
      "provenance": [],
      "collapsed_sections": [],
      "authorship_tag": "ABX9TyOdwEYi4BKAezpIGmCqVdJ5",
      "include_colab_link": true
    },
    "kernelspec": {
      "name": "python3",
      "display_name": "Python 3"
    }
  },
  "cells": [
    {
      "cell_type": "markdown",
      "metadata": {
        "id": "view-in-github",
        "colab_type": "text"
      },
      "source": [
        "<a href=\"https://colab.research.google.com/github/pedrohortencio/Machine-Learning-Algorithms-in-the-Real-World/blob/main/Supervised%20Learning%20Tip%20to%20Tail/parameter_tuning.ipynb\" target=\"_parent\"><img src=\"https://colab.research.google.com/assets/colab-badge.svg\" alt=\"Open In Colab\"/></a>"
      ]
    },
    {
      "cell_type": "markdown",
      "metadata": {
        "id": "_WRE7JYmsDEM"
      },
      "source": [
        "###Grid Search"
      ]
    },
    {
      "cell_type": "code",
      "metadata": {
        "id": "RkFegeM7r99d"
      },
      "source": [
        "from sklearn.model_selection import GridSearchCV\n",
        "\n",
        "from sklearn.svm import SVC\n",
        "\n",
        "#put the hyperparameters here, in a dictionary with the list of values to test\n",
        "parameter = [{'C':[1, 10, 100, 1000],\n",
        "              'gamma':[1, 0.1, 0.01, 0.001, 0.0001],\n",
        "              'kernel':['rbf']}]\n",
        "\n",
        "classifier = GridSearchCV(SVC(), parameter, cv=5, scoring='accuracy')\n",
        "classifier.fit(X_train, y_train)\n",
        "print(classifier.best_params_)"
      ],
      "execution_count": null,
      "outputs": []
    },
    {
      "cell_type": "markdown",
      "metadata": {
        "id": "QFSRnpxLstKV"
      },
      "source": [
        "###Randomized Search"
      ]
    },
    {
      "cell_type": "code",
      "metadata": {
        "id": "y4qCUuS4sxO-"
      },
      "source": [
        "from sklearn.model_selection import RandomizedSearchCV\n",
        "\n",
        "from sklearn.svm import SVC\n",
        "\n",
        "#put the hyperparameters here, in a dictionary with the list of values to test\n",
        "parameter = [{'C':stats.uniform(2,10),\n",
        "              'gamma':stats.uniform(0.1, 1),\n",
        "              'kernel':['rbf']}]\n",
        "\n",
        "classifier = RandomizedSearchCV(SVC(), parameter, cv=5, scoring='accuracy')\n",
        "classifier.fit(X_train, y_train)\n",
        "print(classifier.best_params_)"
      ],
      "execution_count": null,
      "outputs": []
    }
  ]
}